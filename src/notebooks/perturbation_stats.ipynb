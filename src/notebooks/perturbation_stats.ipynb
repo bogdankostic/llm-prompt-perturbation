{
 "cells": [
  {
   "cell_type": "markdown",
   "id": "42379ac1",
   "metadata": {},
   "source": [
    "# MMLU\n",
    "## Lexical Perturbations"
   ]
  },
  {
   "cell_type": "code",
   "execution_count": 1,
   "id": "e72be71c",
   "metadata": {},
   "outputs": [
    {
     "name": "stdout",
     "output_type": "stream",
     "text": [
      "Mean absolute number of changes: 16.024711579547073\n",
      "Mean relative number of changes: 0.2483547971825058\n"
     ]
    }
   ],
   "source": [
    "import json\n",
    "import pandas as pd\n",
    "\n",
    "def absolute_number_of_changes(changes):\n",
    "    return sum(1 if change[0] != change[1] else 0 for change in changes)\n",
    "\n",
    "def relative_number_of_changes(changes):\n",
    "    if len(changes) == 0:\n",
    "        return 0\n",
    "    return absolute_number_of_changes(changes) / len(changes)\n",
    "\n",
    "file = \"../../data/mmlu/lexical/llm_synonym_perturbation.json\"\n",
    "with open(file, \"r\") as f:\n",
    "    data = json.load(f)\n",
    "\n",
    "perturbation_data_df = pd.DataFrame(data[\"data\"])\n",
    "perturbation_data_df[\"abs_changes\"] = perturbation_data_df[\"changes\"].apply(absolute_number_of_changes)\n",
    "perturbation_data_df[\"rel_changes\"] = perturbation_data_df[\"changes\"].apply(relative_number_of_changes)\n",
    "\n",
    "print(f\"Mean absolute number of changes: {perturbation_data_df['abs_changes'].mean()}\")\n",
    "print(f\"Mean relative number of changes: {perturbation_data_df['rel_changes'].mean()}\")\n"
   ]
  },
  {
   "cell_type": "markdown",
   "id": "51ecf68d",
   "metadata": {},
   "source": [
    "# Syntactic Perturbations"
   ]
  },
  {
   "cell_type": "code",
   "execution_count": 2,
   "id": "95045da4",
   "metadata": {},
   "outputs": [
    {
     "name": "stdout",
     "output_type": "stream",
     "text": [
      "Mean number of sentences: 6.862555191568153\n",
      "Mean absolute number of transformations: 1.224825523429711\n",
      "Mean relative number of transformations: 0.15013797119275435\n",
      "Absolute Transformation type counts:\n",
      "  : 79165\n",
      "  active_to_passive: 13283\n",
      "  reverse_wh_movement: 1547\n",
      "  passive_to_active: 889\n",
      "  wh_movement: 748\n",
      "  dative_alternation: 250\n",
      "  prep_dative_alternation: 242\n",
      "  extraposition: 131\n",
      "  reverse_extraposition: 109\n",
      "Relative Transformation type counts:\n",
      "  : 0.8215204848283592\n",
      "  active_to_passive: 0.1378419326719522\n",
      "  reverse_wh_movement: 0.016053713004856585\n",
      "  passive_to_active: 0.00922543688514383\n",
      "  wh_movement: 0.007762234859491096\n",
      "  dative_alternation: 0.0025943298327176126\n",
      "  prep_dative_alternation: 0.002511311278070649\n",
      "  extraposition: 0.001359428832344029\n",
      "  reverse_extraposition: 0.001131127807064879\n"
     ]
    }
   ],
   "source": [
    "from collections import Counter\n",
    "\n",
    "\n",
    "def n_sentences(row):\n",
    "    return len(row[\"question_metadata\"][\"transformations\"]) + sum(len(choice[\"transformations\"]) for choice in row[\"choices_metadata\"])\n",
    "\n",
    "def n_transformations(row):\n",
    "    counter = 0\n",
    "    for transformation in row[\"question_metadata\"][\"transformations\"]:\n",
    "        if transformation != \"\":\n",
    "            counter += 1\n",
    "    for choice in row[\"choices_metadata\"]:\n",
    "        for transformation in choice[\"transformations\"]:\n",
    "            if transformation != \"\":\n",
    "                counter += 1\n",
    "\n",
    "    return counter\n",
    "\n",
    "def count_transformations(row):\n",
    "    transformation_counts = Counter()\n",
    "    \n",
    "    # Count transformations in question metadata\n",
    "    for transformation in row[\"question_metadata\"][\"transformations\"]:\n",
    "        if isinstance(transformation, list):\n",
    "            transformation_counts[transformation[0]] += 1\n",
    "        else:\n",
    "            transformation_counts[transformation] += 1\n",
    "    \n",
    "    # Count transformations in choices metadata\n",
    "    for choice in row[\"choices_metadata\"]:\n",
    "        for transformation in choice[\"transformations\"]:\n",
    "            if isinstance(transformation, list):\n",
    "                transformation_counts[transformation[0]] += 1\n",
    "            else:\n",
    "                transformation_counts[transformation] += 1\n",
    "    \n",
    "    return transformation_counts\n",
    "\n",
    "\n",
    "file = \"../../data/mmlu/syntactic/syntactic_perturbation.json\"\n",
    "with open(file, \"r\") as f:\n",
    "    data = json.load(f)\n",
    "\n",
    "perturbation_data_df = pd.DataFrame(data[\"data\"])\n",
    "perturbation_data_df[\"n_sentences\"] = perturbation_data_df.apply(n_sentences, axis=1)\n",
    "perturbation_data_df[\"n_transformations\"] = perturbation_data_df.apply(n_transformations, axis=1)\n",
    "perturbation_data_df[\"rel_transformations\"] = perturbation_data_df[\"n_transformations\"] / perturbation_data_df[\"n_sentences\"]\n",
    "\n",
    "\n",
    "print(f\"Mean number of sentences: {perturbation_data_df['n_sentences'].mean()}\")\n",
    "print(f\"Mean absolute number of transformations: {perturbation_data_df['n_transformations'].mean()}\")\n",
    "print(f\"Mean relative number of transformations: {perturbation_data_df['rel_transformations'].mean()}\")\n",
    "# Count transformations\n",
    "transformation_counts_list = perturbation_data_df.apply(count_transformations, axis=1)\n",
    "total_transformation_counts = Counter()\n",
    "for counter in transformation_counts_list:\n",
    "    total_transformation_counts.update(counter)\n",
    "print(\"Absolute Transformation type counts:\")\n",
    "for transformation_type, count in total_transformation_counts.most_common():\n",
    "    print(f\"  {transformation_type}: {count}\")\n",
    "\n",
    "# Relative Transformation type counts\n",
    "n_sentences = perturbation_data_df[\"n_sentences\"].sum()\n",
    "relative_transformation_counts = {k: v / n_sentences for k, v in total_transformation_counts.most_common()}\n",
    "print(\"Relative Transformation type counts:\")\n",
    "for transformation_type, count in relative_transformation_counts.items():\n",
    "    print(f\"  {transformation_type}: {count}\")\n"
   ]
  },
  {
   "cell_type": "markdown",
   "id": "c354b213",
   "metadata": {},
   "source": [
    "# SQuAD\n",
    "## Lexical Perturbations"
   ]
  },
  {
   "cell_type": "code",
   "execution_count": 3,
   "id": "6ca9c0f1",
   "metadata": {},
   "outputs": [
    {
     "name": "stdout",
     "output_type": "stream",
     "text": [
      "Mean absolute number of changes: 7.009\n",
      "Mean relative number of changes: 0.05667592799188895\n"
     ]
    }
   ],
   "source": [
    "file = \"../../data/squad/lexical/llm_synonym_perturbation.json\"\n",
    "with open(file, \"r\") as f:\n",
    "    data = json.load(f)\n",
    "\n",
    "perturbation_data_df = pd.DataFrame(data[\"data\"])\n",
    "perturbation_data_df[\"abs_changes\"] = perturbation_data_df[\"changes\"].apply(absolute_number_of_changes)\n",
    "perturbation_data_df[\"rel_changes\"] = perturbation_data_df[\"changes\"].apply(relative_number_of_changes)\n",
    "\n",
    "print(f\"Mean absolute number of changes: {perturbation_data_df['abs_changes'].mean()}\")\n",
    "print(f\"Mean relative number of changes: {perturbation_data_df['rel_changes'].mean()}\")"
   ]
  },
  {
   "cell_type": "markdown",
   "id": "617d393d",
   "metadata": {},
   "source": [
    "## Syntactic Perturbations"
   ]
  },
  {
   "cell_type": "code",
   "execution_count": 4,
   "id": "a6db458b",
   "metadata": {},
   "outputs": [
    {
     "name": "stdout",
     "output_type": "stream",
     "text": [
      "Mean number of sentences: 5.957\n",
      "Mean absolute number of transformations: 2.477\n",
      "Mean relative number of transformations: 0.4275758409890763\n",
      "Absolute Transformation type counts:\n",
      "  : 3480\n",
      "  active_to_passive: 1730\n",
      "  reverse_wh_movement: 358\n",
      "  passive_to_active: 239\n",
      "  wh_movement: 95\n",
      "  extraposition: 22\n",
      "  reverse_extraposition: 14\n",
      "  prep_dative_alternation: 12\n",
      "  dative_alternation: 7\n",
      "Relative Transformation type counts:\n",
      "  : 0.5841866711431929\n",
      "  active_to_passive: 0.2904146382407252\n",
      "  reverse_wh_movement: 0.06009736444519053\n",
      "  passive_to_active: 0.04012086620782273\n",
      "  wh_movement: 0.015947624643276818\n",
      "  extraposition: 0.0036931341279167365\n",
      "  reverse_extraposition: 0.0023501762632197414\n",
      "  prep_dative_alternation: 0.0020144367970454926\n",
      "  dative_alternation: 0.0011750881316098707\n"
     ]
    }
   ],
   "source": [
    "def n_sentences(row):\n",
    "    return len(row[\"question_metadata\"][\"transformations\"]) + len(row[\"context_metadata\"][\"transformations\"])\n",
    "\n",
    "def n_transformations(row):\n",
    "    counter = 0\n",
    "    for transformation in row[\"question_metadata\"][\"transformations\"]:\n",
    "        if transformation != \"\":\n",
    "            counter += 1\n",
    "    for transformation in row[\"context_metadata\"][\"transformations\"]:\n",
    "        if transformation != \"\":\n",
    "            counter += 1\n",
    "\n",
    "    return counter\n",
    "\n",
    "def count_transformations(row):\n",
    "    transformation_counts = Counter()\n",
    "    \n",
    "    # Count transformations in question metadata\n",
    "    for transformation in row[\"question_metadata\"][\"transformations\"]:\n",
    "        if isinstance(transformation, list):\n",
    "            transformation_counts[transformation[0]] += 1\n",
    "        else:\n",
    "            transformation_counts[transformation] += 1\n",
    "    \n",
    "    # Count transformations in context metadata\n",
    "    for transformation in row[\"context_metadata\"][\"transformations\"]:\n",
    "        if isinstance(transformation, list):\n",
    "            transformation_counts[transformation[0]] += 1\n",
    "        else:\n",
    "            transformation_counts[transformation] += 1\n",
    "    \n",
    "    return transformation_counts\n",
    "\n",
    "\n",
    "file = \"../../data/squad/syntactic/syntactic_perturbation.json\"\n",
    "with open(file, \"r\") as f:\n",
    "    data = json.load(f)\n",
    "\n",
    "perturbation_data_df = pd.DataFrame(data[\"data\"])\n",
    "perturbation_data_df[\"n_sentences\"] = perturbation_data_df.apply(n_sentences, axis=1)\n",
    "perturbation_data_df[\"n_transformations\"] = perturbation_data_df.apply(n_transformations, axis=1)\n",
    "perturbation_data_df[\"rel_transformations\"] = perturbation_data_df[\"n_transformations\"] / perturbation_data_df[\"n_sentences\"]\n",
    "\n",
    "\n",
    "print(f\"Mean number of sentences: {perturbation_data_df['n_sentences'].mean()}\")\n",
    "print(f\"Mean absolute number of transformations: {perturbation_data_df['n_transformations'].mean()}\")\n",
    "print(f\"Mean relative number of transformations: {perturbation_data_df['rel_transformations'].mean()}\")\n",
    "# Count transformations\n",
    "transformation_counts_list = perturbation_data_df.apply(count_transformations, axis=1)\n",
    "total_transformation_counts = Counter()\n",
    "for counter in transformation_counts_list:\n",
    "    total_transformation_counts.update(counter)\n",
    "print(\"Absolute Transformation type counts:\")\n",
    "for transformation_type, count in total_transformation_counts.most_common():\n",
    "    print(f\"  {transformation_type}: {count}\")\n",
    "\n",
    "# Relative Transformation type counts\n",
    "n_sentences = perturbation_data_df[\"n_sentences\"].sum()\n",
    "relative_transformation_counts = {k: v / n_sentences for k, v in total_transformation_counts.most_common()}\n",
    "print(\"Relative Transformation type counts:\")\n",
    "for transformation_type, count in relative_transformation_counts.items():\n",
    "    print(f\"  {transformation_type}: {count}\")"
   ]
  },
  {
   "cell_type": "markdown",
   "id": "bbca2974",
   "metadata": {},
   "source": [
    "# Amega\n",
    "## Lexical Perturbation\n",
    "### Case Descriptions"
   ]
  },
  {
   "cell_type": "code",
   "execution_count": 5,
   "id": "0a8cf2df",
   "metadata": {},
   "outputs": [
    {
     "name": "stdout",
     "output_type": "stream",
     "text": [
      "Mean absolute number of changes: 17.0\n",
      "Mean relative number of changes: 0.15762677706022332\n"
     ]
    }
   ],
   "source": [
    "file = \"../../data/amega/lexical/llm_synonym_perturbation_cases.json\"\n",
    "with open(file, \"r\") as f:\n",
    "    data = json.load(f)\n",
    "\n",
    "perturbation_data_df = pd.DataFrame(data[\"data\"])\n",
    "perturbation_data_df[\"abs_changes\"] = perturbation_data_df[\"changes\"].apply(absolute_number_of_changes)\n",
    "perturbation_data_df[\"rel_changes\"] = perturbation_data_df[\"changes\"].apply(relative_number_of_changes)\n",
    "\n",
    "print(f\"Mean absolute number of changes: {perturbation_data_df['abs_changes'].mean()}\")\n",
    "print(f\"Mean relative number of changes: {perturbation_data_df['rel_changes'].mean()}\")"
   ]
  },
  {
   "cell_type": "markdown",
   "id": "a757ec21",
   "metadata": {},
   "source": [
    "### Questions"
   ]
  },
  {
   "cell_type": "code",
   "execution_count": 6,
   "id": "1d446059",
   "metadata": {},
   "outputs": [
    {
     "name": "stdout",
     "output_type": "stream",
     "text": [
      "Mean absolute number of changes: 8.147058823529411\n",
      "Mean relative number of changes: 0.30516476523893843\n"
     ]
    }
   ],
   "source": [
    "file = \"../../data/amega/lexical/llm_synonym_perturbation_questions.json\"\n",
    "with open(file, \"r\") as f:\n",
    "    data = json.load(f)\n",
    "\n",
    "perturbation_data_df = pd.DataFrame(data[\"data\"])\n",
    "perturbation_data_df[\"abs_changes\"] = perturbation_data_df[\"changes\"].apply(absolute_number_of_changes)\n",
    "perturbation_data_df[\"rel_changes\"] = perturbation_data_df[\"changes\"].apply(relative_number_of_changes)\n",
    "\n",
    "print(f\"Mean absolute number of changes: {perturbation_data_df['abs_changes'].mean()}\")\n",
    "print(f\"Mean relative number of changes: {perturbation_data_df['rel_changes'].mean()}\")"
   ]
  },
  {
   "cell_type": "markdown",
   "id": "21d59072",
   "metadata": {},
   "source": [
    "## Syntactic Perturbations\n",
    "### Case Descriptions"
   ]
  },
  {
   "cell_type": "code",
   "execution_count": 7,
   "id": "a1538a44",
   "metadata": {},
   "outputs": [
    {
     "name": "stdout",
     "output_type": "stream",
     "text": [
      "Mean number of sentences: 6.8\n",
      "Mean absolute number of transformations: 3.0\n",
      "Mean relative number of transformations: 0.41313492063492063\n",
      "Absolute Transformation type counts:\n",
      "  : 76\n",
      "  active_to_passive: 60\n",
      "Relative Transformation type counts:\n",
      "  : 0.5588235294117647\n",
      "  active_to_passive: 0.4411764705882353\n"
     ]
    }
   ],
   "source": [
    "def n_sentences(row):\n",
    "    return len(row[\"metadata\"][\"transformations\"])\n",
    "\n",
    "def n_transformations(row):\n",
    "    counter = 0\n",
    "    for transformation in row[\"metadata\"][\"transformations\"]:\n",
    "        if transformation != \"\":\n",
    "            counter += 1\n",
    "\n",
    "    return counter\n",
    "\n",
    "def count_transformations(row):\n",
    "    transformation_counts = Counter()\n",
    "    \n",
    "    # Count transformations in question metadata\n",
    "    for transformation in row[\"metadata\"][\"transformations\"]:\n",
    "        if isinstance(transformation, list):\n",
    "            transformation_counts[transformation[0]] += 1\n",
    "        else:\n",
    "            transformation_counts[transformation] += 1\n",
    "    \n",
    "    return transformation_counts\n",
    "\n",
    "file = \"../../data/amega/syntactic/syntactic_perturbation_cases.json\"\n",
    "with open(file, \"r\") as f:\n",
    "    data = json.load(f)\n",
    "\n",
    "perturbation_data_df = pd.DataFrame(data[\"data\"])\n",
    "perturbation_data_df[\"n_sentences\"] = perturbation_data_df.apply(n_sentences, axis=1)\n",
    "perturbation_data_df[\"n_transformations\"] = perturbation_data_df.apply(n_transformations, axis=1)\n",
    "perturbation_data_df[\"rel_transformations\"] = perturbation_data_df[\"n_transformations\"] / perturbation_data_df[\"n_sentences\"]\n",
    "\n",
    "print(f\"Mean number of sentences: {perturbation_data_df['n_sentences'].mean()}\")\n",
    "print(f\"Mean absolute number of transformations: {perturbation_data_df['n_transformations'].mean()}\")\n",
    "print(f\"Mean relative number of transformations: {perturbation_data_df['rel_transformations'].mean()}\")\n",
    "# Count transformations\n",
    "transformation_counts_list = perturbation_data_df.apply(count_transformations, axis=1)\n",
    "total_transformation_counts = Counter()\n",
    "for counter in transformation_counts_list:\n",
    "    total_transformation_counts.update(counter)\n",
    "print(\"Absolute Transformation type counts:\")\n",
    "for transformation_type, count in total_transformation_counts.most_common():\n",
    "    print(f\"  {transformation_type}: {count}\")\n",
    "\n",
    "# Relative Transformation type counts\n",
    "n_sentences = perturbation_data_df[\"n_sentences\"].sum()\n",
    "relative_transformation_counts = {k: v / n_sentences for k, v in total_transformation_counts.most_common()}\n",
    "print(\"Relative Transformation type counts:\")\n",
    "for transformation_type, count in relative_transformation_counts.items():\n",
    "    print(f\"  {transformation_type}: {count}\")"
   ]
  },
  {
   "cell_type": "markdown",
   "id": "546bc9af",
   "metadata": {},
   "source": [
    "### Questions"
   ]
  },
  {
   "cell_type": "code",
   "execution_count": 8,
   "id": "64936b23",
   "metadata": {},
   "outputs": [
    {
     "name": "stdout",
     "output_type": "stream",
     "text": [
      "Mean number of sentences: 2.0\n",
      "Mean absolute number of transformations: 0.39705882352941174\n",
      "Mean relative number of transformations: 0.21446078431372548\n",
      "Absolute Transformation type counts:\n",
      "  : 218\n",
      "  wh_movement: 29\n",
      "  active_to_passive: 25\n",
      "Relative Transformation type counts:\n",
      "  : 0.8014705882352942\n",
      "  wh_movement: 0.10661764705882353\n",
      "  active_to_passive: 0.09191176470588236\n"
     ]
    }
   ],
   "source": [
    "def n_sentences(row):\n",
    "    return len(row[\"metadata\"][\"transformations\"])\n",
    "\n",
    "def n_transformations(row):\n",
    "    counter = 0\n",
    "    for transformation in row[\"metadata\"][\"transformations\"]:\n",
    "        if transformation != \"\":\n",
    "            counter += 1\n",
    "\n",
    "    return counter\n",
    "\n",
    "def count_transformations(row):\n",
    "    transformation_counts = Counter()\n",
    "    \n",
    "    # Count transformations in question metadata\n",
    "    for transformation in row[\"metadata\"][\"transformations\"]:\n",
    "        if isinstance(transformation, list):\n",
    "            transformation_counts[transformation[0]] += 1\n",
    "        else:\n",
    "            transformation_counts[transformation] += 1\n",
    "    \n",
    "    return transformation_counts\n",
    "\n",
    "file = \"../../data/amega/syntactic/syntactic_perturbation_questions.json\"\n",
    "with open(file, \"r\") as f:\n",
    "    data = json.load(f)\n",
    "\n",
    "perturbation_data_df = pd.DataFrame(data[\"data\"])\n",
    "perturbation_data_df[\"n_sentences\"] = perturbation_data_df.apply(n_sentences, axis=1)\n",
    "perturbation_data_df[\"n_transformations\"] = perturbation_data_df.apply(n_transformations, axis=1)\n",
    "perturbation_data_df[\"rel_transformations\"] = perturbation_data_df[\"n_transformations\"] / perturbation_data_df[\"n_sentences\"]\n",
    "\n",
    "print(f\"Mean number of sentences: {perturbation_data_df['n_sentences'].mean()}\")\n",
    "print(f\"Mean absolute number of transformations: {perturbation_data_df['n_transformations'].mean()}\")\n",
    "print(f\"Mean relative number of transformations: {perturbation_data_df['rel_transformations'].mean()}\")\n",
    "# Count transformations\n",
    "transformation_counts_list = perturbation_data_df.apply(count_transformations, axis=1)\n",
    "total_transformation_counts = Counter()\n",
    "for counter in transformation_counts_list:\n",
    "    total_transformation_counts.update(counter)\n",
    "print(\"Absolute Transformation type counts:\")\n",
    "for transformation_type, count in total_transformation_counts.most_common():\n",
    "    print(f\"  {transformation_type}: {count}\")\n",
    "\n",
    "# Relative Transformation type counts\n",
    "n_sentences = perturbation_data_df[\"n_sentences\"].sum()\n",
    "relative_transformation_counts = {k: v / n_sentences for k, v in total_transformation_counts.most_common()}\n",
    "print(\"Relative Transformation type counts:\")\n",
    "for transformation_type, count in relative_transformation_counts.items():\n",
    "    print(f\"  {transformation_type}: {count}\")"
   ]
  },
  {
   "cell_type": "code",
   "execution_count": null,
   "id": "3e65a2a1",
   "metadata": {},
   "outputs": [],
   "source": []
  }
 ],
 "metadata": {
  "kernelspec": {
   "display_name": "thesis",
   "language": "python",
   "name": "python3"
  },
  "language_info": {
   "codemirror_mode": {
    "name": "ipython",
    "version": 3
   },
   "file_extension": ".py",
   "mimetype": "text/x-python",
   "name": "python",
   "nbconvert_exporter": "python",
   "pygments_lexer": "ipython3",
   "version": "3.12.9"
  }
 },
 "nbformat": 4,
 "nbformat_minor": 5
}
